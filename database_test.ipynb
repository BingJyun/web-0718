{
 "cells": [
  {
   "cell_type": "markdown",
   "metadata": {},
   "source": [
    "教學: https://www.w3schools.com/python/python_mysql_getstarted.asp\n",
    "\n",
    "請先安裝套件:\n",
    "\n",
    " `> pip install mysql-connector-python`"
   ]
  },
  {
   "cell_type": "code",
   "execution_count": 1,
   "metadata": {},
   "outputs": [],
   "source": [
    "import mysql.connector\n",
    "from mysql.connector import errorcode"
   ]
  },
  {
   "cell_type": "code",
   "execution_count": 2,
   "metadata": {},
   "outputs": [],
   "source": [
    "# init variables\n",
    "PRIMARY_KEY = 'name'"
   ]
  },
  {
   "cell_type": "markdown",
   "metadata": {},
   "source": [
    "AWS RDS資料庫連線所需資訊(已過期，請另外新建)\n",
    "* 名稱: rds-mysql-test\n",
    "* 地址: rds-mysql-test.ccb6n449afg7.ap-northeast-1.rds.amazonaws.com\n",
    "* 埠: 3306\n",
    "* 帳號: admin\n",
    "* 密碼: `(AWS自動產生)`"
   ]
  },
  {
   "cell_type": "code",
   "execution_count": 4,
   "metadata": {},
   "outputs": [
    {
     "name": "stdout",
     "output_type": "stream",
     "text": [
      "<mysql.connector.connection_cext.CMySQLConnection object at 0x0000028B4D5F4A90>\n"
     ]
    }
   ],
   "source": [
    "# 連線&錯誤回應\n",
    "try:\n",
    "    db = mysql.connector.connect(\n",
    "        host='rds-mysql-test.ccb6n449afg7.ap-northeast-1.rds.amazonaws.com',\n",
    "        user='admin',\n",
    "        password='',  # AWS自動產生\n",
    "        database='rds_mysql'  # 連線到特定database\n",
    "    )\n",
    "except mysql.connector.Error as err:\n",
    "    if err.errno == errorcode.ER_ACCESS_DENIED_ERROR:\n",
    "        print('資料庫連線失敗：帳號或密碼錯誤')\n",
    "    elif err.errno == errorcode.ER_BAD_DB_ERROR:\n",
    "        print('資料庫不存在')\n",
    "else:\n",
    "    print(db)\n",
    "\n",
    "mycursor = db.cursor()"
   ]
  },
  {
   "cell_type": "code",
   "execution_count": null,
   "metadata": {},
   "outputs": [],
   "source": [
    "# 建立DB\n",
    "mycursor = db.cursor()\n",
    "mycursor.execute('CREATE DATABASE 資料庫名稱')"
   ]
  },
  {
   "cell_type": "code",
   "execution_count": 5,
   "metadata": {},
   "outputs": [
    {
     "name": "stdout",
     "output_type": "stream",
     "text": [
      "('information_schema',)\n",
      "('mysql',)\n",
      "('performance_schema',)\n",
      "('rds_mysql',)\n",
      "('sys',)\n"
     ]
    }
   ],
   "source": [
    "# 確認DB存在\n",
    "mycursor = db.cursor()\n",
    "mycursor.execute('SHOW DATABASES')\n",
    "for item in mycursor:\n",
    "    print(item)"
   ]
  },
  {
   "cell_type": "code",
   "execution_count": null,
   "metadata": {},
   "outputs": [],
   "source": [
    "# 建立table\n",
    "mycursor = db.cursor()\n",
    "mycursor.execute('CREATE TABLE students (name VARCHAR(100), city VARCHAR(50), addr VARCHAR(200), pin VARCHAR(10))')"
   ]
  },
  {
   "cell_type": "code",
   "execution_count": 14,
   "metadata": {},
   "outputs": [
    {
     "name": "stdout",
     "output_type": "stream",
     "text": [
      "('students',)\n"
     ]
    }
   ],
   "source": [
    "# 確認table存在\n",
    "mycursor = db.cursor()\n",
    "mycursor.execute('SHOW TABLES')\n",
    "for item in mycursor:\n",
    "    print(item)"
   ]
  },
  {
   "cell_type": "code",
   "execution_count": 35,
   "metadata": {},
   "outputs": [
    {
     "name": "stdout",
     "output_type": "stream",
     "text": [
      "1 新增資料成功\n"
     ]
    }
   ],
   "source": [
    "# CREATE(用預設語法)\n",
    "mycursor = db.cursor()\n",
    "sql = 'INSERT INTO students (name, city, addr, pin) VALUES (%s, %s, %s, %s)'\n",
    "val = ('Garfield', 'Taipei', 'No.1, Beping E.St.', 'test')\n",
    "mycursor.execute(sql, val)\n",
    "db.commit()\n",
    "# 計算資料\n",
    "print(mycursor.rowcount, '新增資料成功')"
   ]
  },
  {
   "cell_type": "code",
   "execution_count": null,
   "metadata": {},
   "outputs": [],
   "source": [
    "# CREATE(資料放在字典再匯入)\n",
    "mycursor = db.cursor()\n",
    "input = {\n",
    "    'name': 'Will',\n",
    "    'pin': 'dict'\n",
    "}\n",
    "\n",
    "# Dict:input轉sql語法\n",
    "newColumn = tuple(input.keys())\n",
    "newPlaceholder = tuple(['%s'] * len(newColumn))\n",
    "sql = f'INSERT INTO students {newColumn} VALUES {newPlaceholder}'\n",
    "parsedSql = sql.replace(\"'\", \"\")\n",
    "newValue = tuple(input.values())\n",
    "\n",
    "# 執行SQL\n",
    "mycursor.execute(parsedSql, newValue)\n",
    "db.commit()\n",
    "print(mycursor.rowcount, '新增資料成功')"
   ]
  },
  {
   "cell_type": "code",
   "execution_count": 6,
   "metadata": {},
   "outputs": [
    {
     "name": "stdout",
     "output_type": "stream",
     "text": [
      "(3, 'John', 'New York', 'Highway 21', 'ipynb')\n",
      "<class 'mysql.connector.cursor_cext.CMySQLCursor'>\n",
      "(4, 'John2', 'New York', 'Highway 21', 'ipynb2')\n",
      "<class 'mysql.connector.cursor_cext.CMySQLCursor'>\n",
      "(5, 'Garfield', 'Taipei', 'No.1, Beping E.St.', 'test')\n",
      "<class 'mysql.connector.cursor_cext.CMySQLCursor'>\n",
      "(6, 'Will', None, None, 'dict')\n",
      "<class 'mysql.connector.cursor_cext.CMySQLCursor'>\n"
     ]
    }
   ],
   "source": [
    "# READ(所有資料)\n",
    "mycursor = db.cursor()\n",
    "mycursor.execute('SELECT * FROM students')\n",
    "for item in mycursor:\n",
    "    print(item)\n",
    "    print(type(mycursor))"
   ]
  },
  {
   "cell_type": "code",
   "execution_count": 38,
   "metadata": {},
   "outputs": [
    {
     "name": "stdout",
     "output_type": "stream",
     "text": [
      "(5, 'Garfield', 'Taipei', 'No.1, Beping E.St.', 'test')\n"
     ]
    }
   ],
   "source": [
    "# READ(特定一筆資料)\n",
    "mycursor = db.cursor()\n",
    "sql = f'SELECT * FROM students WHERE {PRIMARY_KEY} = %s'\n",
    "val = ('Garfield', )\n",
    "mycursor.execute(sql, val)\n",
    "for item in mycursor:\n",
    "    print(item)"
   ]
  },
  {
   "cell_type": "code",
   "execution_count": 22,
   "metadata": {},
   "outputs": [
    {
     "name": "stdout",
     "output_type": "stream",
     "text": [
      "1 新增資料成功\n"
     ]
    }
   ],
   "source": [
    "# UPDATE(預設語法)\n",
    "sql = 'UPDATE students SET pin = %s WHERE name = %s'\n",
    "val = ('ipynb', 'John')\n",
    "mycursor.execute(sql, val)\n",
    "db.commit()\n",
    "print(mycursor.rowcount, '更新資料成功')"
   ]
  },
  {
   "cell_type": "code",
   "execution_count": 89,
   "metadata": {},
   "outputs": [
    {
     "name": "stdout",
     "output_type": "stream",
     "text": [
      "UPDATE students SET addr = %s, pin = %s, WHERE name = Will \n",
      " ('1355 Vincent', 'dict')\n"
     ]
    }
   ],
   "source": [
    "# UPDATE(資料放在字典再匯入)\n",
    "mycursor = db.cursor()\n",
    "input = {\n",
    "    'name': 'Will',\n",
    "    'addr': '1355 Vincent',\n",
    "    'pin': 'dict'\n",
    "}\n",
    "\n",
    "# 抽出主key-value\n",
    "primaryValue = input[PRIMARY_KEY]\n",
    "parsedInput = input.copy()\n",
    "del parsedInput[PRIMARY_KEY]\n",
    "\n",
    "# Dict:parsedInput轉sql語法\n",
    "newColumnAndPlaceholder = ''\n",
    "for key in parsedInput.keys():\n",
    "    newColumnAndPlaceholder += key + ' = %s, '\n",
    "sql = f'UPDATE students SET {newColumnAndPlaceholder}WHERE {PRIMARY_KEY} = {primaryValue}'\n",
    "parsedSql = sql.replace(\"'\", \"\")\n",
    "newValue = tuple(parsedInput.values())\n",
    "print(parsedSql, '\\n', newValue)\n",
    "\n",
    "# 執行sql\n",
    "# mycursor.execute(parsedSql, newValue)\n",
    "# db.commit()\n",
    "# print(mycursor.rowcount, '更新資料成功')"
   ]
  },
  {
   "cell_type": "code",
   "execution_count": 33,
   "metadata": {},
   "outputs": [
    {
     "name": "stdout",
     "output_type": "stream",
     "text": [
      "2 刪除資料成功\n"
     ]
    }
   ],
   "source": [
    "# DELETE(慎用)\n",
    "mycursor = db.cursor()\n",
    "sql = f'DELETE FROM students WHERE {PRIMARY_KEY} = %s'\n",
    "val = ('Garfield', )\n",
    "mycursor.execute(sql, val)\n",
    "db.commit()\n",
    "print(mycursor.rowcount, '刪除資料成功')"
   ]
  },
  {
   "cell_type": "code",
   "execution_count": 8,
   "metadata": {},
   "outputs": [],
   "source": [
    "# 關閉連線，資料庫操作完一定要執行\n",
    "db.close()"
   ]
  }
 ],
 "metadata": {
  "kernelspec": {
   "display_name": "Python 3",
   "language": "python",
   "name": "python3"
  },
  "language_info": {
   "codemirror_mode": {
    "name": "ipython",
    "version": 3
   },
   "file_extension": ".py",
   "mimetype": "text/x-python",
   "name": "python",
   "nbconvert_exporter": "python",
   "pygments_lexer": "ipython3",
   "version": "3.11.3"
  },
  "orig_nbformat": 4
 },
 "nbformat": 4,
 "nbformat_minor": 2
}
